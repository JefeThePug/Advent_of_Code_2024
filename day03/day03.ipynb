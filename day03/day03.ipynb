{
 "cells": [
  {
   "cell_type": "code",
   "execution_count": 88,
   "id": "6c31cb85-f5e7-46b3-99bc-2150d931517c",
   "metadata": {
    "tags": []
   },
   "outputs": [
    {
     "name": "stdout",
     "output_type": "stream",
     "text": [
      "170778545\n"
     ]
    }
   ],
   "source": [
    "\"\"\"\n",
    "--- Day 3: Mull It Over ---\n",
    "\n",
    "\"Our computers are having issues, so I have no idea if we have any Chief Historians in stock! You're welcome to check \n",
    "the warehouse, though,\" says the mildly flustered shopkeeper at the North Pole Toboggan Rental Shop. The Historians \n",
    "head out to take a look.\n",
    "\n",
    "The shopkeeper turns to you. \"Any chance you can see why our computers are having issues again?\"\n",
    "\n",
    "The computer appears to be trying to run a program, but its memory (your puzzle input) is corrupted. All of the \n",
    "instructions have been jumbled up!\n",
    "\n",
    "It seems like the goal of the program is just to multiply some numbers. It does that with instructions like mul(X,Y), \n",
    "where X and Y are each 1-3 digit numbers. For instance, mul(44,46) multiplies 44 by 46 to get a result of 2024. \n",
    "Similarly, mul(123,4) would multiply 123 by 4.\n",
    "\n",
    "However, because the program's memory has been corrupted, there are also many invalid characters that should be \n",
    "ignored, even if they look like part of a mul instruction. Sequences like mul(4*, mul(6,9!, ?(12,34), or \n",
    "mul ( 2 , 4 ) do nothing.\n",
    "\n",
    "For example, consider the following section of corrupted memory:\n",
    "xmul(2,4)%&mul[3,7]!@^do_not_mul(5,5)+mul(32,64]then(mul(11,8)mul(8,5))\n",
    "\n",
    "Only the four sections ( mul(2,4) mul(5,5) mul(11,8) mul(8,5) )are real mul instructions. Adding up the result of \n",
    "each instruction produces 161 (2*4 + 5*5 + 11*8 + 8*5).\n",
    "\n",
    "Scan the corrupted memory for uncorrupted mul instructions. \n",
    "What do you get if you add up all of the results of the multiplications?\n",
    "\"\"\"\n",
    "\n",
    "import re\n",
    "\n",
    "def get_sum(s: str) -> int:\n",
    "    return sum(int(a)*int(b) for a, b in re.findall(r\"mul\\((\\d+),(\\d+)\\)\", s))\n",
    "\n",
    "with open(\"input.txt\") as f:\n",
    "    print(get_sum(f.read()))\n",
    "    \n",
    "# sum is 170778545"
   ]
  },
  {
   "cell_type": "code",
   "execution_count": 89,
   "id": "0ca76880-e34d-4776-b1ad-d46ccc48b5ca",
   "metadata": {},
   "outputs": [
    {
     "name": "stdout",
     "output_type": "stream",
     "text": [
      "82868252\n"
     ]
    }
   ],
   "source": [
    "\"\"\"\n",
    "--- Part Two ---\n",
    "As you scan through the corrupted memory, you notice that some of the conditional statements are also still intact. \n",
    "If you handle some of the uncorrupted conditional statements in the program, you might be able to get an even more \n",
    "accurate result.\n",
    "\n",
    "There are two new instructions you'll need to handle:\n",
    "- The do() instruction enables future mul instructions.\n",
    "- The don't() instruction disables future mul instructions.\n",
    "\n",
    "Only the most recent do() or don't() instruction applies. At the beginning of the program, mul instructions are \n",
    "enabled.\n",
    "\n",
    "For example:\n",
    "xmul(2,4)&mul[3,7]!^don't()_mul(5,5)+mul(32,64](mul(11,8)undo()?mul(8,5))\n",
    "\n",
    "This corrupted memory is similar to the example from before, but this time the mul(5,5) and mul(11,8) instructions \n",
    "are disabled because there is a don't() instruction before them. The other mul instructions function normally, \n",
    "including the one at the end that gets re-enabled by a do() instruction.\n",
    "\n",
    "This time, the sum of the results is 48 (2*4 + 8*5).\n",
    "\n",
    "Handle the new instructions; what do you get if you add up all of the results of just the enabled multiplications?\n",
    "\"\"\"\n",
    "\n",
    "import re\n",
    "\n",
    "def parse(s: str) -> int:\n",
    "    return sum(get_sum(p.split(\"don't()\")[0]) for p in s.split(\"do()\"))\n",
    "\n",
    "def get_sum(s: str) -> int:\n",
    "    return sum(int(a)*int(b) for a, b in re.findall(r\"mul\\((\\d+),(\\d+)\\)\", s))\n",
    "\n",
    "with open(\"input.txt\") as f:\n",
    "    print(parse(f.read()))\n",
    "    \n",
    "# sum is 82868252"
   ]
  },
  {
   "cell_type": "code",
   "execution_count": null,
   "id": "ca7c50d6-840c-410a-ad15-925f1ec4b7e8",
   "metadata": {},
   "outputs": [],
   "source": []
  }
 ],
 "metadata": {
  "kernelspec": {
   "display_name": "Python 3 (ipykernel)",
   "language": "python",
   "name": "python3"
  },
  "language_info": {
   "codemirror_mode": {
    "name": "ipython",
    "version": 3
   },
   "file_extension": ".py",
   "mimetype": "text/x-python",
   "name": "python",
   "nbconvert_exporter": "python",
   "pygments_lexer": "ipython3",
   "version": "3.10.9"
  }
 },
 "nbformat": 4,
 "nbformat_minor": 5
}

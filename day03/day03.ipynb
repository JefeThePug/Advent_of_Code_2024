{
 "cells": [
  {
   "cell_type": "code",
   "execution_count": 15,
   "id": "6c31cb85-f5e7-46b3-99bc-2150d931517c",
   "metadata": {
    "tags": []
   },
   "outputs": [
    {
     "name": "stdout",
     "output_type": "stream",
     "text": [
      "686\n"
     ]
    }
   ],
   "source": [
    "\"\"\"\n",
    "\n",
    "\"\"\"\n",
    "\n",
    "def get_total_dist(s: str) -> int:\n",
    "    return # sum(is_inc(r) for r in map(lambda x: [*map(int, x.split())], s.split(\"\\n\")))\n",
    "    \n",
    "with open(\"input.txt\") as f:\n",
    "    print(get_total_dist(f.read()))\n",
    "    \n",
    "#"
   ]
  },
  {
   "cell_type": "code",
   "execution_count": 82,
   "id": "0ca76880-e34d-4776-b1ad-d46ccc48b5ca",
   "metadata": {},
   "outputs": [
    {
     "name": "stdout",
     "output_type": "stream",
     "text": [
      "717\n"
     ]
    }
   ],
   "source": [
    "\"\"\"\n",
    "\n",
    "\"\"\"\n",
    "\n",
    "def get_total_dist(s: str) -> int:\n",
    "    return #sum(is_inc(r) for r in map(lambda x: [*map(int, x.split())], s.split(\"\\n\")))\n",
    "    \n",
    "with open(\"input.txt\") as f:\n",
    "    print(get_total_dist(f.read()))\n",
    "    \n",
    "#"
   ]
  },
  {
   "cell_type": "code",
   "execution_count": null,
   "id": "14da474a-081d-46df-aafb-46de5007572f",
   "metadata": {},
   "outputs": [],
   "source": []
  }
 ],
 "metadata": {
  "kernelspec": {
   "display_name": "Python 3 (ipykernel)",
   "language": "python",
   "name": "python3"
  },
  "language_info": {
   "codemirror_mode": {
    "name": "ipython",
    "version": 3
   },
   "file_extension": ".py",
   "mimetype": "text/x-python",
   "name": "python",
   "nbconvert_exporter": "python",
   "pygments_lexer": "ipython3",
   "version": "3.10.9"
  }
 },
 "nbformat": 4,
 "nbformat_minor": 5
}

{
 "cells": [
  {
   "cell_type": "code",
   "execution_count": 88,
   "id": "6c31cb85-f5e7-46b3-99bc-2150d931517c",
   "metadata": {
    "tags": []
   },
   "outputs": [
    {
     "name": "stdout",
     "output_type": "stream",
     "text": [
      "170778545\n"
     ]
    }
   ],
   "source": [
    "\"\"\"\n",
    "--- Day 3: Mull It Over ---\n",
    " https://adventofcode.com/2024/day/3 \n",
    "\"\"\"\n",
    "\n",
    "import re\n",
    "\n",
    "def get_sum(s: str) -> int:\n",
    "    return sum(int(a)*int(b) for a, b in re.findall(r\"mul\\((\\d+),(\\d+)\\)\", s))\n",
    "\n",
    "with open(\"input.txt\") as f:\n",
    "    print(get_sum(f.read()))\n",
    "    \n",
    "# sum is 170778545"
   ]
  },
  {
   "cell_type": "code",
   "execution_count": 89,
   "id": "0ca76880-e34d-4776-b1ad-d46ccc48b5ca",
   "metadata": {},
   "outputs": [
    {
     "name": "stdout",
     "output_type": "stream",
     "text": [
      "82868252\n"
     ]
    }
   ],
   "source": [
    "\"\"\"\n",
    "--- Part Two ---\n",
    " https://adventofcode.com/2024/day/3#part2 \n",
    "\"\"\"\n",
    "\n",
    "import re\n",
    "\n",
    "def parse(s: str) -> int:\n",
    "    return sum(get_sum(p.split(\"don't()\")[0]) for p in s.split(\"do()\"))\n",
    "\n",
    "def get_sum(s: str) -> int:\n",
    "    return sum(int(a)*int(b) for a, b in re.findall(r\"mul\\((\\d+),(\\d+)\\)\", s))\n",
    "\n",
    "with open(\"input.txt\") as f:\n",
    "    print(parse(f.read()))\n",
    "    \n",
    "# sum is 82868252"
   ]
  },
  {
   "cell_type": "code",
   "execution_count": null,
   "id": "ca7c50d6-840c-410a-ad15-925f1ec4b7e8",
   "metadata": {},
   "outputs": [],
   "source": []
  }
 ],
 "metadata": {
  "kernelspec": {
   "display_name": "Python 3 (ipykernel)",
   "language": "python",
   "name": "python3"
  },
  "language_info": {
   "codemirror_mode": {
    "name": "ipython",
    "version": 3
   },
   "file_extension": ".py",
   "mimetype": "text/x-python",
   "name": "python",
   "nbconvert_exporter": "python",
   "pygments_lexer": "ipython3",
   "version": "3.10.9"
  }
 },
 "nbformat": 4,
 "nbformat_minor": 5
}

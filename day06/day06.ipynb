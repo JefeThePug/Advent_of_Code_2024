{
 "cells": [
  {
   "cell_type": "code",
   "execution_count": 24,
   "id": "6c31cb85-f5e7-46b3-99bc-2150d931517c",
   "metadata": {
    "tags": []
   },
   "outputs": [
    {
     "name": "stdout",
     "output_type": "stream",
     "text": [
      "5312\n"
     ]
    }
   ],
   "source": [
    "\"\"\"\n",
    "--- Day 6: Guard Gallivant ---\n",
    " https://adventofcode.com/2024/day/6 \n",
    "\"\"\"\n",
    "\n",
    "import numpy as np\n",
    "\n",
    "class Guard:\n",
    "    def __init__(self, x: int, y: int, dx: int, dy: int):\n",
    "        self.x = x\n",
    "        self.y = y\n",
    "        self.occupy()\n",
    "        self.dx = dx\n",
    "        self.dy = dy\n",
    "        self.facing = None\n",
    "        self.look_ahead()\n",
    "        self.out = False\n",
    "        \n",
    "    def move(self) -> None:\n",
    "        if self.facing in \".X\":\n",
    "            self.x += self.dx\n",
    "            self.y += self.dy\n",
    "            self.occupy()\n",
    "            self.look_ahead()\n",
    "        elif self.facing == \"#\":\n",
    "            self.dx, self.dy = self.dy, -self.dx\n",
    "            self.look_ahead()\n",
    "        elif self.facing == \"@\":\n",
    "            self.out = True\n",
    "            \n",
    "    def occupy(self) -> None:\n",
    "        grid[self.x, self.y] = \"X\"\n",
    "\n",
    "    def look_ahead(self) -> None:\n",
    "        self.facing = grid[self.x + self.dx, self.y + self.dy]\n",
    "\n",
    "    \n",
    "with open(\"input.txt\") as f:\n",
    "    map_data = np.array([list(line) for line in f.read().split(\"\\n\")])\n",
    "    grid = np.full((map_data.shape[0] + 2, map_data.shape[1] + 2), \"@\",)\n",
    "    grid[1:-1, 1:-1] = map_data\n",
    "    \n",
    "guard_pos = np.where(grid == \"^\")\n",
    "guard = Guard(guard_pos[0][0], guard_pos[1][0], -1, 0)\n",
    "\n",
    "while not guard.out:\n",
    "    guard.move()\n",
    "    \n",
    "print(np.count_nonzero(grid == \"X\"))\n",
    "    \n",
    "#total positions 5312"
   ]
  },
  {
   "cell_type": "code",
   "execution_count": 25,
   "id": "0ca76880-e34d-4776-b1ad-d46ccc48b5ca",
   "metadata": {},
   "outputs": [
    {
     "name": "stdout",
     "output_type": "stream",
     "text": [
      "1748\n"
     ]
    }
   ],
   "source": [
    "\"\"\"\n",
    "--- Part Two ---\n",
    " https://adventofcode.com/2024/day/6#part2 \n",
    "\"\"\"\n",
    "\n",
    "import numpy as np\n",
    "\n",
    "class Guard:\n",
    "    def __init__(self, x: int, y: int, dx: int, dy: int):\n",
    "        self.x = x\n",
    "        self.y = y\n",
    "        self.occupy()\n",
    "        self.dx = dx\n",
    "        self.dy = dy\n",
    "        self.facing = None\n",
    "        self.look_ahead()\n",
    "        self.out = False\n",
    "        self.mapping = {\".\":\"X\", \"X\":\"+\", \"+\":\"*\", \"*\":\"O\"}\n",
    "        \n",
    "    def move(self) -> None:\n",
    "        if self.facing in \".X+*\":\n",
    "            self.x += self.dx\n",
    "            self.y += self.dy\n",
    "            self.occupy(self.mapping[sim[self.x, self.y]])\n",
    "            if sim[self.x, self.y] == \"O\":\n",
    "                self.out = True\n",
    "                return\n",
    "            self.look_ahead()\n",
    "        elif self.facing == \"#\":\n",
    "            self.dx, self.dy = self.dy, -self.dx\n",
    "            self.look_ahead()\n",
    "        elif self.facing == \"@\":\n",
    "            self.out = True\n",
    "            \n",
    "    def occupy(self, val=\"X\") -> None:\n",
    "        sim[self.x, self.y] = val\n",
    "\n",
    "    def look_ahead(self) -> None:\n",
    "        self.facing = sim[self.x + self.dx, self.y + self.dy]\n",
    "\n",
    "    \n",
    "with open(\"input.txt\") as f:\n",
    "    map_data = np.array([list(line) for line in f.read().split(\"\\n\")])    \n",
    "    grid = np.full((map_data.shape[0] + 2, map_data.shape[1] + 2), \"@\",)\n",
    "    grid[1:-1, 1:-1] = map_data\n",
    "    \n",
    "guard_pos = np.where(grid == \"^\")\n",
    "startX, startY = guard_pos[0][0], guard_pos[1][0]\n",
    "path = [(0,0)]\n",
    "loops = 0 \n",
    "\n",
    "for block in path:\n",
    "    sim = np.copy(grid)\n",
    "    sim[block] = \"#\"\n",
    "    guard = Guard(startX, startY, -1, 0)\n",
    "    while not guard.out:\n",
    "        guard.move()\n",
    "    loops += np.count_nonzero(sim == \"O\")\n",
    "    \n",
    "    if block == (0, 0):\n",
    "        path.extend([*zip(*np.where((sim == \"X\") | (sim == \"+\")))])\n",
    "        path.remove((startX, startY))\n",
    "        \n",
    "print(loops)\n",
    "\n",
    "#Possible Positions: 1748"
   ]
  },
  {
   "cell_type": "code",
   "execution_count": null,
   "id": "b0e9025a-cee1-4301-8ad8-daaaac17b4ad",
   "metadata": {
    "tags": []
   },
   "outputs": [],
   "source": []
  }
 ],
 "metadata": {
  "kernelspec": {
   "display_name": "Python 3 (ipykernel)",
   "language": "python",
   "name": "python3"
  },
  "language_info": {
   "codemirror_mode": {
    "name": "ipython",
    "version": 3
   },
   "file_extension": ".py",
   "mimetype": "text/x-python",
   "name": "python",
   "nbconvert_exporter": "python",
   "pygments_lexer": "ipython3",
   "version": "3.10.9"
  }
 },
 "nbformat": 4,
 "nbformat_minor": 5
}

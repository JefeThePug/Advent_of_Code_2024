{
 "cells": [
  {
   "cell_type": "code",
   "execution_count": 1,
   "id": "6c31cb85-f5e7-46b3-99bc-2150d931517c",
   "metadata": {
    "tags": []
   },
   "outputs": [
    {
     "name": "stdout",
     "output_type": "stream",
     "text": [
      "231221760\n"
     ]
    }
   ],
   "source": [
    "\"\"\"\n",
    "--- Day 14: Restroom Redoubt ---\n",
    " https://adventofcode.com/2024/day/14 \n",
    "\"\"\"\n",
    "\n",
    "import numpy as np\n",
    "import re\n",
    "\n",
    "class Robot:\n",
    "    def __init__(self, x: int, y: int, dx: int, dy: int):\n",
    "        self.x = x\n",
    "        self.y = y\n",
    "        self.dx = dx\n",
    "        self.dy = dy\n",
    "        grid[x, y] += 1\n",
    "        \n",
    "    def move(self) -> None:\n",
    "        grid[self.x, self.y] -= 1\n",
    "        self.x = (self.x + self.dx)%grid.shape[0]\n",
    "        self.y = (self.y + self.dy)%grid.shape[1]\n",
    "        grid[self.x, self.y] += 1     \n",
    "        \n",
    "with open(\"data.txt\") as f:\n",
    "    # size = (11, 7) # Test Input\n",
    "    size = (101, 103) # Puzzle Input\n",
    "    grid = np.zeros(size, dtype=int)\n",
    "    robots = [Robot(*map(int, re.findall(r\"-?\\d+\", d))) for d in f.readlines()]\n",
    "\n",
    "for _ in range(100):\n",
    "    for r in robots: \n",
    "        r.move()\n",
    "        \n",
    "mid_row, mid_col = grid.shape[0]//2, grid.shape[1]//2\n",
    "result = np.sum(grid[:mid_row, :mid_col])\n",
    "result *= np.sum(grid[:mid_row, mid_col+1:])\n",
    "result *= np.sum(grid[mid_row+1:, :mid_col])\n",
    "result *= np.sum(grid[mid_row+1:, mid_col+1:])\n",
    "print(result)\n",
    "        \n",
    "#Safety Factor at 100 Seconds: 231221760"
   ]
  },
  {
   "cell_type": "code",
   "execution_count": 2,
   "id": "0ca76880-e34d-4776-b1ad-d46ccc48b5ca",
   "metadata": {},
   "outputs": [
    {
     "name": "stdout",
     "output_type": "stream",
     "text": [
      "Complete\n"
     ]
    }
   ],
   "source": [
    "\"\"\"\n",
    "--- Part Two ---\n",
    " https://adventofcode.com/2024/day/14#part2 \n",
    "\"\"\"\n",
    "\n",
    "import numpy as np\n",
    "import re\n",
    "from PIL import Image, ImageDraw, ImageFont\n",
    "\n",
    "class Robot:\n",
    "    def __init__(self, x: int, y: int, dx: int, dy: int):\n",
    "        self.x = x\n",
    "        self.y = y\n",
    "        self.dx = dx\n",
    "        self.dy = dy\n",
    "        grid[x, y] += 1\n",
    "        \n",
    "    def move(self) -> None:\n",
    "        grid[self.x, self.y] -= 1\n",
    "        self.x = (self.x + self.dx)%grid.shape[0]\n",
    "        self.y = (self.y + self.dy)%grid.shape[1]\n",
    "        grid[self.x, self.y] += 1\n",
    "        \n",
    "with open(\"data.txt\") as f:\n",
    "    size = (101, 103)\n",
    "    grid = np.zeros(size, dtype=int)\n",
    "    robots = [Robot(*map(int, re.findall(r\"-?\\d+\", d))) for d in f.readlines()]\n",
    "\n",
    "main_image = Image.new(\"RGB\", (10000, 10000), color=(0, 0, 0))\n",
    "for i in range(10_000):\n",
    "    for r in robots: \n",
    "        r.move()\n",
    "    image_data = np.where(grid == 0, 0, 255).astype(np.uint8)\n",
    "    image = Image.fromarray(image_data, mode='L').convert(\"RGB\")\n",
    "    draw = ImageDraw.Draw(image)\n",
    "    draw.text((5, 5), f\"{i + 1}\", fill=(0, 255, 0))\n",
    "    row, col = divmod(i, 100)\n",
    "    main_image.paste(image, (col*100, row*100)) \n",
    "main_image.save(\"robots.bmp\")\n",
    "print(\"Complete\")\n",
    "\n",
    "#Easter Egg Displayed at: 6771"
   ]
  },
  {
   "cell_type": "code",
   "execution_count": null,
   "id": "38ae3e69-ab21-41ca-85ca-1d869052e1a4",
   "metadata": {},
   "outputs": [],
   "source": []
  }
 ],
 "metadata": {
  "kernelspec": {
   "display_name": "Python 3 (ipykernel)",
   "language": "python",
   "name": "python3"
  },
  "language_info": {
   "codemirror_mode": {
    "name": "ipython",
    "version": 3
   },
   "file_extension": ".py",
   "mimetype": "text/x-python",
   "name": "python",
   "nbconvert_exporter": "python",
   "pygments_lexer": "ipython3",
   "version": "3.10.9"
  }
 },
 "nbformat": 4,
 "nbformat_minor": 5
}

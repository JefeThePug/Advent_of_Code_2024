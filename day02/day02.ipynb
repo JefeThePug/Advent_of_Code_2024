{
 "cells": [
  {
   "cell_type": "code",
   "execution_count": 85,
   "id": "6c31cb85-f5e7-46b3-99bc-2150d931517c",
   "metadata": {
    "tags": []
   },
   "outputs": [
    {
     "name": "stdout",
     "output_type": "stream",
     "text": [
      "686\n"
     ]
    }
   ],
   "source": [
    "\"\"\"\n",
    "--- Day 2: Red-Nosed Reports ---\n",
    "\n",
    "Fortunately, the first location The Historians want to search isn't a long walk from the Chief Historian's office.\n",
    "\n",
    "While the Red-Nosed Reindeer nuclear fusion/fission plant appears to contain no sign of the Chief Historian, the \n",
    "engineers there run up to you as soon as they see you. Apparently, they still talk about the time Rudolph was saved \n",
    "through molecular synthesis from a single electron.\n",
    "\n",
    "They're quick to add that - since you're already here - they'd really appreciate your help analyzing some unusual data \n",
    "from the Red-Nosed reactor. You turn to check if The Historians are waiting for you, but they seem to have already \n",
    "divided into groups that are currently searching every corner of the facility. You offer to help with the unusual data.\n",
    "\n",
    "The unusual data (your puzzle input) consists of many reports, one report per line. Each report is a list of numbers \n",
    "called levels that are separated by spaces. For example:\n",
    "7 6 4 2 1\n",
    "1 2 7 8 9\n",
    "9 7 6 2 1\n",
    "1 3 2 4 5\n",
    "8 6 4 4 1\n",
    "1 3 6 7 9\n",
    "\n",
    "This example data contains six reports each containing five levels.\n",
    "\n",
    "The engineers are trying to figure out which reports are safe. The Red-Nosed reactor safety systems can only tolerate \n",
    "levels that are either gradually increasing or gradually decreasing. So, a report only counts as safe if both of the \n",
    "following are true:\n",
    "\n",
    "- The levels are either all increasing or all decreasing.\n",
    "- Any two adjacent levels differ by at least one and at most three.\n",
    "\n",
    "In the example above, the reports can be found safe or unsafe by checking those rules:\n",
    "\n",
    "- 7 6 4 2 1: Safe because the levels are all decreasing by 1 or 2.\n",
    "- 1 2 7 8 9: Unsafe because 2 7 is an increase of 5.\n",
    "- 9 7 6 2 1: Unsafe because 6 2 is a decrease of 4.\n",
    "- 1 3 2 4 5: Unsafe because 1 3 is increasing but 3 2 is decreasing.\n",
    "- 8 6 4 4 1: Unsafe because 4 4 is neither an increase or a decrease.\n",
    "- 1 3 6 7 9: Safe because the levels are all increasing by 1, 2, or 3.\n",
    "\n",
    "So, in this example, 2 reports are safe.\n",
    "\n",
    "Analyze the unusual data from the engineers. How many reports are safe?\n",
    "\"\"\"\n",
    "\n",
    "def check(arr: list[int]) -> bool:\n",
    "    gap = all(abs(a - b) < 4 for a, b in zip(arr, arr[1:]))\n",
    "    inc = all(a < b for a, b in zip(arr, arr[1:]))\n",
    "    dec = all(a > b for a, b in zip(arr, arr[1:]))\n",
    "    return gap and (inc or dec)\n",
    "\n",
    "def get_num_safe(s: str) -> int:\n",
    "    return sum(check(r) for r in map(lambda x: [*map(int, x.split())], s.split(\"\\n\")))\n",
    "    \n",
    "with open(\"input.txt\") as f:\n",
    "    print(get_num_safe(f.read()))\n",
    "    \n",
    "#686 reports safe"
   ]
  },
  {
   "cell_type": "code",
   "execution_count": 86,
   "id": "0ca76880-e34d-4776-b1ad-d46ccc48b5ca",
   "metadata": {},
   "outputs": [
    {
     "name": "stdout",
     "output_type": "stream",
     "text": [
      "717\n"
     ]
    }
   ],
   "source": [
    "\"\"\"\n",
    "--- Part Two ---\n",
    "\n",
    "The engineers are surprised by the low number of safe reports until they realize they forgot to tell you about the \n",
    "Problem Dampener.\n",
    "\n",
    "The Problem Dampener is a reactor-mounted module that lets the reactor safety systems tolerate a single bad level in \n",
    "what would otherwise be a safe report. It's like the bad level never happened!\n",
    "\n",
    "Now, the same rules apply as before, except if removing a single level from an unsafe report would make it safe, the \n",
    "report instead counts as safe.\n",
    "\n",
    "More of the above example's reports are now safe:\n",
    "\n",
    "- 7 6 4 2 1: Safe without removing any level.\n",
    "- 1 2 7 8 9: Unsafe regardless of which level is removed.\n",
    "- 9 7 6 2 1: Unsafe regardless of which level is removed.\n",
    "- 1 3 2 4 5: Safe by removing the second level, 3.\n",
    "- 8 6 4 4 1: Safe by removing the third level, 4.\n",
    "- 1 3 6 7 9: Safe without removing any level.\n",
    "\n",
    "Thanks to the Problem Dampener, 4 reports are actually safe!\n",
    "\n",
    "Update your analysis by handling situations where the Problem Dampener can remove a single level from unsafe reports. \n",
    "How many reports are now safe?\n",
    "\"\"\"\n",
    "\n",
    "def check_part(arr: list[int]) -> bool:\n",
    "    gap = all(abs(a - b) < 4 for a, b in zip(arr, arr[1:]))\n",
    "    inc = all(a < b for a, b in zip(arr, arr[1:]))\n",
    "    dec = all(a > b for a, b in zip(arr, arr[1:]))\n",
    "    return gap and (inc or dec)\n",
    "\n",
    "def check(arr: list[int]) -> bool:\n",
    "    if check_part(arr): \n",
    "        return True\n",
    "    for i in range(len(arr)):\n",
    "        if check_part(arr[:i] + arr[i + 1:]): \n",
    "            return True\n",
    "    return False\n",
    "\n",
    "def get_num_safe(s: str) -> int:\n",
    "    return sum(check(r) for r in map(lambda x: [*map(int, x.split())], s.split(\"\\n\")))\n",
    "    \n",
    "with open(\"input.txt\") as f:\n",
    "    print(get_num_safe(f.read()))\n",
    "    \n",
    "#717 reports safe"
   ]
  },
  {
   "cell_type": "code",
   "execution_count": null,
   "id": "14da474a-081d-46df-aafb-46de5007572f",
   "metadata": {},
   "outputs": [],
   "source": []
  }
 ],
 "metadata": {
  "kernelspec": {
   "display_name": "Python 3 (ipykernel)",
   "language": "python",
   "name": "python3"
  },
  "language_info": {
   "codemirror_mode": {
    "name": "ipython",
    "version": 3
   },
   "file_extension": ".py",
   "mimetype": "text/x-python",
   "name": "python",
   "nbconvert_exporter": "python",
   "pygments_lexer": "ipython3",
   "version": "3.10.9"
  }
 },
 "nbformat": 4,
 "nbformat_minor": 5
}

{
 "cells": [
  {
   "cell_type": "code",
   "execution_count": 85,
   "id": "6c31cb85-f5e7-46b3-99bc-2150d931517c",
   "metadata": {
    "tags": []
   },
   "outputs": [
    {
     "name": "stdout",
     "output_type": "stream",
     "text": [
      "686\n"
     ]
    }
   ],
   "source": [
    "\"\"\"\n",
    "--- Day 2: Red-Nosed Reports ---\n",
    " https://adventofcode.com/2024/day/2 \n",
    "\"\"\"\n",
    "\n",
    "def check(arr: list[int]) -> bool:\n",
    "    gap = all(abs(a - b) < 4 for a, b in zip(arr, arr[1:]))\n",
    "    inc = all(a < b for a, b in zip(arr, arr[1:]))\n",
    "    dec = all(a > b for a, b in zip(arr, arr[1:]))\n",
    "    return gap and (inc or dec)\n",
    "\n",
    "def get_num_safe(s: str) -> int:\n",
    "    return sum(check(r) for r in map(lambda x: [*map(int, x.split())], s.split(\"\\n\")))\n",
    "    \n",
    "with open(\"input.txt\") as f:\n",
    "    print(get_num_safe(f.read()))\n",
    "    \n",
    "#686 reports safe"
   ]
  },
  {
   "cell_type": "code",
   "execution_count": 86,
   "id": "0ca76880-e34d-4776-b1ad-d46ccc48b5ca",
   "metadata": {},
   "outputs": [
    {
     "name": "stdout",
     "output_type": "stream",
     "text": [
      "717\n"
     ]
    }
   ],
   "source": [
    "\"\"\"\n",
    "--- Part Two ---\n",
    " https://adventofcode.com/2024/day/2#part2 \n",
    "\"\"\"\n",
    "\n",
    "def check_part(arr: list[int]) -> bool:\n",
    "    gap = all(abs(a - b) < 4 for a, b in zip(arr, arr[1:]))\n",
    "    inc = all(a < b for a, b in zip(arr, arr[1:]))\n",
    "    dec = all(a > b for a, b in zip(arr, arr[1:]))\n",
    "    return gap and (inc or dec)\n",
    "\n",
    "def check(arr: list[int]) -> bool:\n",
    "    if check_part(arr): \n",
    "        return True\n",
    "    for i in range(len(arr)):\n",
    "        if check_part(arr[:i] + arr[i + 1:]): \n",
    "            return True\n",
    "    return False\n",
    "\n",
    "def get_num_safe(s: str) -> int:\n",
    "    return sum(check(r) for r in map(lambda x: [*map(int, x.split())], s.split(\"\\n\")))\n",
    "    \n",
    "with open(\"input.txt\") as f:\n",
    "    print(get_num_safe(f.read()))\n",
    "    \n",
    "#717 reports safe"
   ]
  },
  {
   "cell_type": "code",
   "execution_count": null,
   "id": "14da474a-081d-46df-aafb-46de5007572f",
   "metadata": {},
   "outputs": [],
   "source": []
  }
 ],
 "metadata": {
  "kernelspec": {
   "display_name": "Python 3 (ipykernel)",
   "language": "python",
   "name": "python3"
  },
  "language_info": {
   "codemirror_mode": {
    "name": "ipython",
    "version": 3
   },
   "file_extension": ".py",
   "mimetype": "text/x-python",
   "name": "python",
   "nbconvert_exporter": "python",
   "pygments_lexer": "ipython3",
   "version": "3.10.9"
  }
 },
 "nbformat": 4,
 "nbformat_minor": 5
}

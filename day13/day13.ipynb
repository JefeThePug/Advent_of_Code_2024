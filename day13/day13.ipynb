{
 "cells": [
  {
   "cell_type": "code",
   "execution_count": 1,
   "id": "6c31cb85-f5e7-46b3-99bc-2150d931517c",
   "metadata": {
    "tags": []
   },
   "outputs": [
    {
     "name": "stdout",
     "output_type": "stream",
     "text": [
      "30973\n"
     ]
    }
   ],
   "source": [
    "\"\"\"\n",
    "--- Day 13: Claw Contraption ---\n",
    " https://adventofcode.com/2024/day/13 \n",
    "\"\"\"\n",
    "\n",
    "import re\n",
    "from z3 import Int, Solver\n",
    "        \n",
    "def cashout(A: int, B: int) -> int:\n",
    "    return A*3 + B\n",
    "\n",
    "def solve(x1: int, y1: int, x2: int, y2: int, xc: int, yc: int) -> tuple[int, int]:\n",
    "    A = Int('A')\n",
    "    B = Int('B')\n",
    "\n",
    "    solver = Solver()\n",
    "\n",
    "    solver.add(x1*A + x2*B == xc)\n",
    "    solver.add(y1*A + y2*B == yc)\n",
    "    solver.add(A >= 0)\n",
    "    solver.add(B >= 0)\n",
    "\n",
    "    if f\"{solver.check()}\" == \"sat\":\n",
    "        model = solver.model()\n",
    "        return model[A].as_long(), model[B].as_long()\n",
    "    return 0, 0\n",
    "\n",
    "with open(\"input.txt\") as f:\n",
    "    machines = (map(int, re.findall(r\"\\d+\", x)) for x in f.read().split(\"\\n\\n\"))\n",
    "\n",
    "print(sum(cashout(*solve(*m)) for m in machines))\n",
    "\n",
    "#Fewest Tokens: 30973"
   ]
  },
  {
   "cell_type": "code",
   "execution_count": 2,
   "id": "0ca76880-e34d-4776-b1ad-d46ccc48b5ca",
   "metadata": {},
   "outputs": [
    {
     "name": "stdout",
     "output_type": "stream",
     "text": [
      "95688837203288\n"
     ]
    }
   ],
   "source": [
    "\"\"\"\n",
    "--- Part Two ---\n",
    " https://adventofcode.com/2024/day/13#part2 \n",
    "\"\"\"\n",
    "\n",
    "import re\n",
    "from z3 import Int, Solver\n",
    "        \n",
    "def cashout(A: int, B: int) -> int:\n",
    "    return A*3 + B\n",
    "\n",
    "def solve(x1: int, y1: int, x2: int, y2: int, xc: int, yc: int) -> tuple[int, int]:\n",
    "    A = Int('A')\n",
    "    B = Int('B')\n",
    "\n",
    "    solver = Solver()\n",
    "\n",
    "    solver.add(x1 * A + x2 * B == 10_000_000_000_000 + xc)\n",
    "    solver.add(y1 * A + y2 * B == 10_000_000_000_000 + yc)\n",
    "    solver.add(A >= 0)\n",
    "    solver.add(B >= 0)\n",
    "\n",
    "    if f\"{solver.check()}\" == \"sat\":\n",
    "        model = solver.model()\n",
    "        return model[A].as_long(), model[B].as_long()\n",
    "    else:\n",
    "        return 0, 0\n",
    "\n",
    "with open(\"input.txt\") as f:\n",
    "    machines = (map(int, re.findall(r\"\\d+\", x)) for x in f.read().split(\"\\n\\n\"))\n",
    "\n",
    "print(sum(cashout(*solve(*m)) for m in machines))\n",
    "\n",
    "#Fewest Tokens: 95688837203288"
   ]
  },
  {
   "cell_type": "code",
   "execution_count": null,
   "id": "38ae3e69-ab21-41ca-85ca-1d869052e1a4",
   "metadata": {},
   "outputs": [],
   "source": []
  }
 ],
 "metadata": {
  "kernelspec": {
   "display_name": "Python 3 (ipykernel)",
   "language": "python",
   "name": "python3"
  },
  "language_info": {
   "codemirror_mode": {
    "name": "ipython",
    "version": 3
   },
   "file_extension": ".py",
   "mimetype": "text/x-python",
   "name": "python",
   "nbconvert_exporter": "python",
   "pygments_lexer": "ipython3",
   "version": "3.10.9"
  }
 },
 "nbformat": 4,
 "nbformat_minor": 5
}

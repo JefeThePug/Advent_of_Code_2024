{
 "cells": [
  {
   "cell_type": "code",
   "execution_count": 5,
   "id": "6c31cb85-f5e7-46b3-99bc-2150d931517c",
   "metadata": {
    "tags": []
   },
   "outputs": [
    {
     "name": "stdout",
     "output_type": "stream",
     "text": [
      "231278\n"
     ]
    }
   ],
   "source": [
    "\"\"\"\n",
    "--- Day 11: Plutonian Pebbles ---\n",
    "https://adventofcode.com/2024/day/11\n",
    "\"\"\"\n",
    "\n",
    "from functools import cache\n",
    "from math import floor, log10\n",
    "\n",
    "@cache\n",
    "def process(n: int) -> int | tuple[int, int]:\n",
    "    if n == 0: return 1\n",
    "    digits = floor(log10(n)) + 1\n",
    "    if not digits&1: return divmod(n, 10**(digits//2))\n",
    "    return n*2024\n",
    "\n",
    "@cache\n",
    "def iterate(stone: int, i: int) -> int:\n",
    "    if i == 0: return 1\n",
    "    value = process(stone)\n",
    "    if isinstance(value, tuple):\n",
    "        return iterate(value[0], i - 1) + iterate(value[1], i - 1)\n",
    "    else:\n",
    "        return iterate(value, i - 1)\n",
    "    \n",
    "with open(\"input.txt\") as f:\n",
    "    line = map(int, f.read().split())\n",
    "\n",
    "iterations = 25\n",
    "print(sum(iterate(stone, iterations) for stone in line))\n",
    "\n",
    "#Total Stones: 231278"
   ]
  },
  {
   "cell_type": "code",
   "execution_count": 6,
   "id": "0ca76880-e34d-4776-b1ad-d46ccc48b5ca",
   "metadata": {},
   "outputs": [
    {
     "name": "stdout",
     "output_type": "stream",
     "text": [
      "274229228071551\n"
     ]
    }
   ],
   "source": [
    "\"\"\"\n",
    "--- Part Two ---\n",
    "https://adventofcode.com/2024/day/11#part2\n",
    "\"\"\"\n",
    "\n",
    "from functools import cache\n",
    "from math import floor, log10\n",
    "\n",
    "@cache\n",
    "def process(n: int) -> int | tuple[int, int]:\n",
    "    if n == 0: return 1\n",
    "    digits = floor(log10(n)) + 1\n",
    "    if not digits&1: return divmod(n, 10**(digits//2))\n",
    "    return n*2024\n",
    "\n",
    "@cache\n",
    "def iterate(stone: int, i: int) -> int:\n",
    "    if i == 0: return 1\n",
    "    value = process(stone)\n",
    "    if isinstance(value, tuple):\n",
    "        return iterate(value[0], i - 1) + iterate(value[1], i - 1)\n",
    "    else:\n",
    "        return iterate(value, i - 1)\n",
    "    \n",
    "with open(\"input.txt\") as f:\n",
    "    line = map(int, f.read().split())\n",
    "\n",
    "iterations = 75\n",
    "print(sum(iterate(stone, iterations) for stone in line))\n",
    "\n",
    "#Total Stones: 274229228071551"
   ]
  },
  {
   "cell_type": "code",
   "execution_count": null,
   "id": "92b7d938-76ef-4392-8c66-7a840ec39280",
   "metadata": {},
   "outputs": [],
   "source": []
  }
 ],
 "metadata": {
  "kernelspec": {
   "display_name": "Python 3 (ipykernel)",
   "language": "python",
   "name": "python3"
  },
  "language_info": {
   "codemirror_mode": {
    "name": "ipython",
    "version": 3
   },
   "file_extension": ".py",
   "mimetype": "text/x-python",
   "name": "python",
   "nbconvert_exporter": "python",
   "pygments_lexer": "ipython3",
   "version": "3.10.9"
  }
 },
 "nbformat": 4,
 "nbformat_minor": 5
}

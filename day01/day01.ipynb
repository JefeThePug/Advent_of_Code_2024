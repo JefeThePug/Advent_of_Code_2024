{
 "cells": [
  {
   "cell_type": "code",
   "execution_count": 24,
   "id": "6c31cb85-f5e7-46b3-99bc-2150d931517c",
   "metadata": {
    "tags": []
   },
   "outputs": [
    {
     "name": "stdout",
     "output_type": "stream",
     "text": [
      "1258579\n"
     ]
    }
   ],
   "source": [
    "\"\"\"\n",
    "--- Day 1: Historian Hysteria ---\n",
    " https://adventofcode.com/2024/day/1 \n",
    "\"\"\"\n",
    "\n",
    "def get_total_dist(s: str) -> int:\n",
    "    lists = [sorted(x) for x in zip(*[[int(a), int(b)] for a, b in map(str.split, s.split(\"\\n\"))])]\n",
    "    return sum(abs(a - b) for a, b in zip(*lists))\n",
    "    \n",
    "with open(\"input.txt\") as f:\n",
    "    print(get_total_dist(f.read()))\n",
    "    \n",
    "#total distance is 1258579"
   ]
  },
  {
   "cell_type": "code",
   "execution_count": 31,
   "id": "0ca76880-e34d-4776-b1ad-d46ccc48b5ca",
   "metadata": {},
   "outputs": [
    {
     "name": "stdout",
     "output_type": "stream",
     "text": [
      "23981443\n"
     ]
    }
   ],
   "source": [
    "\"\"\"\n",
    "--- Part Two ---\n",
    " https://adventofcode.com/2024/day/1#part2 \n",
    "\"\"\"\n",
    "\n",
    "def get_score(s: str) -> int:\n",
    "    lista, listb = zip(*[[int(a), int(b)] for a, b in map(str.split, s.split(\"\\n\"))])\n",
    "    return sum(a*listb.count(a) for a in lista)\n",
    "    \n",
    "with open(\"input.txt\") as f:\n",
    "    print(get_score(f.read()))\n",
    "    \n",
    "#similarity score is 23981443"
   ]
  },
  {
   "cell_type": "code",
   "execution_count": null,
   "id": "b0e9025a-cee1-4301-8ad8-daaaac17b4ad",
   "metadata": {
    "tags": []
   },
   "outputs": [],
   "source": []
  }
 ],
 "metadata": {
  "kernelspec": {
   "display_name": "Python 3 (ipykernel)",
   "language": "python",
   "name": "python3"
  },
  "language_info": {
   "codemirror_mode": {
    "name": "ipython",
    "version": 3
   },
   "file_extension": ".py",
   "mimetype": "text/x-python",
   "name": "python",
   "nbconvert_exporter": "python",
   "pygments_lexer": "ipython3",
   "version": "3.10.9"
  }
 },
 "nbformat": 4,
 "nbformat_minor": 5
}

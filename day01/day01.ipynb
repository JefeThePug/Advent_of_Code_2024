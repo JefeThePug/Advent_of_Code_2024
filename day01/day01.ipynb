{
 "cells": [
  {
   "cell_type": "code",
   "execution_count": 24,
   "id": "6c31cb85-f5e7-46b3-99bc-2150d931517c",
   "metadata": {
    "tags": []
   },
   "outputs": [
    {
     "name": "stdout",
     "output_type": "stream",
     "text": [
      "1258579\n"
     ]
    }
   ],
   "source": [
    "\"\"\"\n",
    "--- Day 1: Historian Hysteria ---\n",
    "\n",
    "The Chief Historian is always present for the big Christmas sleigh launch, but nobody has seen him in months! Last anyone \n",
    "heard, he was visiting locations that are historically significant to the North Pole; a group of Senior Historians has \n",
    "asked you to accompany them as they check the places they think he was most likely to visit.\n",
    "\n",
    "As each location is checked, they will mark it on their list with a star. They figure the Chief Historian must be in one \n",
    "of the first fifty places they'll look, so in order to save Christmas, you need to help them get fifty stars on their \n",
    "list before Santa takes off on December 25th.\n",
    "\n",
    "Collect stars by solving puzzles. Two puzzles will be made available on each day in the Advent calendar; the second \n",
    "puzzle is unlocked when you complete the first. Each puzzle grants one star. Good luck!\n",
    "\n",
    "You haven't even left yet and the group of Elvish Senior Historians has already hit a problem: their list of locations \n",
    "to check is currently empty. Eventually, someone decides that the best place to check first would be the Chief \n",
    "Historian's office.\n",
    "\n",
    "Upon pouring into the office, everyone confirms that the Chief Historian is indeed nowhere to be found. Instead, the \n",
    "Elves discover an assortment of notes and lists of historically significant locations! This seems to be the planning the \n",
    "Chief Historian was doing before he left. Perhaps these notes can be used to determine which locations to search?\n",
    "\n",
    "Throughout the Chief's office, the historically significant locations are listed not by name but by a unique number called \n",
    "the location ID. To make sure they don't miss anything, The Historians split into two groups, each searching the office \n",
    "and trying to create their own complete list of location IDs.\n",
    "\n",
    "There's just one problem: by holding the two lists up side by side (your puzzle input), it quickly becomes clear that the \n",
    "lists aren't very similar. Maybe you can help The Historians reconcile their lists?\n",
    "\n",
    "For example:\n",
    "3   4\n",
    "4   3\n",
    "2   5\n",
    "1   3\n",
    "3   9\n",
    "3   3\n",
    "\n",
    "Maybe the lists are only off by a small amount! To find out, pair up the numbers and measure how far apart they are. Pair \n",
    "up the smallest number in the left list with the smallest number in the right list, then the second-smallest left number \n",
    "with the second-smallest right number, and so on.\n",
    "\n",
    "Within each pair, figure out how far apart the two numbers are; you'll need to add up all of those distances. For example, \n",
    "if you pair up a 3 from the left list with a 7 from the right list, the distance apart is 4; if you pair up a 9 with a 3, \n",
    "the distance apart is 6.\n",
    "\n",
    "In the example list above, the pairs and distances would be as follows:\n",
    "\n",
    "- The smallest number in the left list is 1, and the smallest number in the right list is 3. \n",
    "  The distance between them is 2.\n",
    "- The second-smallest number in the left list is 2, and the second-smallest number in the right \n",
    "  list is another 3. The distance between them is 1.\n",
    "- The third-smallest number in both lists is 3, so the distance between them is 0.\n",
    "- The next numbers to pair up are 3 and 4, a distance of 1.\n",
    "- The fifth-smallest numbers in each list are 3 and 5, a distance of 2.\n",
    "- Finally, the largest number in the left list is 4, while the largest number in the right list \n",
    "  is 9; these are a distance 5 apart.\n",
    "\n",
    "To find the total distance between the left list and the right list, add up the distances between all of the pairs you \n",
    "found. In the example above, this is 2 + 1 + 0 + 1 + 2 + 5, a total distance of 11!\n",
    "\n",
    "Your actual left and right lists contain many location IDs. What is the total distance between your lists?\n",
    "\n",
    "\"\"\"\n",
    "\n",
    "def get_total_dist(s: str) -> int:\n",
    "    lists = [sorted(x) for x in zip(*[[int(a), int(b)] for a, b in map(str.split, s.split(\"\\n\"))])]\n",
    "    return sum(abs(a - b) for a, b in zip(*lists))\n",
    "    \n",
    "with open(\"input.txt\") as f:\n",
    "    print(get_total_dist(f.read()))\n",
    "    \n",
    "#total distance is 1258579"
   ]
  },
  {
   "cell_type": "code",
   "execution_count": 31,
   "id": "0ca76880-e34d-4776-b1ad-d46ccc48b5ca",
   "metadata": {},
   "outputs": [
    {
     "name": "stdout",
     "output_type": "stream",
     "text": [
      "23981443\n"
     ]
    }
   ],
   "source": [
    "\"\"\"\n",
    "--- Part Two ---\n",
    "\n",
    "Your analysis only confirmed what everyone feared: the two lists of location IDs are indeed very different.\n",
    "Or are they?\n",
    "\n",
    "The Historians can't agree on which group made the mistakes or how to read most of the Chief's handwriting, but in the \n",
    "commotion you notice an interesting detail: a lot of location IDs appear in both lists! Maybe the other numbers aren't \n",
    "location IDs at all but rather misinterpreted handwriting.\n",
    "\n",
    "This time, you'll need to figure out exactly how often each number from the left list appears in the right list. \n",
    "Calculate a total similarity score by adding up each number in the left list after multiplying it by the number of times \n",
    "that number appears in the right list.\n",
    "\n",
    "Here are the same example lists again:\n",
    "3   4\n",
    "4   3\n",
    "2   5\n",
    "1   3\n",
    "3   9\n",
    "3   3\n",
    "\n",
    "For these example lists, here is the process of finding the similarity score:\n",
    "\n",
    "- The first number in the left list is 3. It appears in the right list three times, \n",
    "  so the similarity score increases by 3 * 3 = 9.\n",
    "- The second number in the left list is 4. It appears in the right list once, so the \n",
    "  similarity score increases by 4 * 1 = 4.\n",
    "- The third number in the left list is 2. It does not appear in the right list, so the \n",
    "  similarity score does not increase (2 * 0 = 0).\n",
    "- The fourth number, 1, also does not appear in the right list.\n",
    "- The fifth number, 3, appears in the right list three times; the similarity score \n",
    "  increases by 9.\n",
    "- The last number, 3, appears in the right list three times; the similarity score again \n",
    "  increases by 9.\n",
    "\n",
    "So, for these example lists, the similarity score at the end of this process is 31 (9 + 4 + 0 + 0 + 9 + 9).\n",
    "\n",
    "Once again consider your left and right lists. What is their similarity score?\n",
    "\n",
    "\"\"\"\n",
    "\n",
    "def get_score(s: str) -> int:\n",
    "    lista, listb = zip(*[[int(a), int(b)] for a, b in map(str.split, s.split(\"\\n\"))])\n",
    "    return sum(a*listb.count(a) for a in lista)\n",
    "    \n",
    "with open(\"input.txt\") as f:\n",
    "    print(get_score(f.read()))\n",
    "    \n",
    "#similarity score is 23981443"
   ]
  },
  {
   "cell_type": "code",
   "execution_count": null,
   "id": "b0e9025a-cee1-4301-8ad8-daaaac17b4ad",
   "metadata": {
    "tags": []
   },
   "outputs": [],
   "source": []
  }
 ],
 "metadata": {
  "kernelspec": {
   "display_name": "Python 3 (ipykernel)",
   "language": "python",
   "name": "python3"
  },
  "language_info": {
   "codemirror_mode": {
    "name": "ipython",
    "version": 3
   },
   "file_extension": ".py",
   "mimetype": "text/x-python",
   "name": "python",
   "nbconvert_exporter": "python",
   "pygments_lexer": "ipython3",
   "version": "3.10.9"
  }
 },
 "nbformat": 4,
 "nbformat_minor": 5
}

{
 "cells": [
  {
   "cell_type": "code",
   "execution_count": 43,
   "id": "6c31cb85-f5e7-46b3-99bc-2150d931517c",
   "metadata": {
    "tags": []
   },
   "outputs": [
    {
     "name": "stdout",
     "output_type": "stream",
     "text": [
      "369\n"
     ]
    }
   ],
   "source": [
    "\"\"\"\n",
    "--- Day 8: Resonant Collinearity ---\n",
    " https://adventofcode.com/2024/day/8 \n",
    "\"\"\"\n",
    "\n",
    "from string import ascii_letters, digits\n",
    "from itertools import combinations\n",
    "import numpy as np\n",
    "\n",
    "def add_antinodes(x: int, y: int, dx: int, dy: int) -> None:\n",
    "    newx, newy = x + dx, y + dy\n",
    "    if newx in range(grid.shape[0]) and newy in range(grid.shape[1]):\n",
    "        antinodes[(newx, newy)] = \"#\"\n",
    "            \n",
    "def get_d(ax: int, ay: int, bx: int, by: int) -> tuple[int, int]:\n",
    "    return (ax - bx, ay - by)\n",
    "\n",
    "def count_antinodes() -> int:         \n",
    "    for freq in ascii_letters + digits:\n",
    "        for a, b in combinations(zip(*np.where(grid == freq)), 2):\n",
    "            d = get_d(*a, *b)\n",
    "            add_antinodes(*a, *d)\n",
    "            add_antinodes(*b, -d[0], -d[1])\n",
    "    return np.count_nonzero(antinodes == \"#\")\n",
    "    \n",
    "with open(\"input.txt\") as f:\n",
    "    grid = np.array([list(line) for line in f.read().split(\"\\n\")])\n",
    "    antinodes = np.full_like(grid, \".\")\n",
    "    print(count_antinodes())\n",
    "\n",
    "#Total Unique Locations: 369"
   ]
  },
  {
   "cell_type": "code",
   "execution_count": 45,
   "id": "0ca76880-e34d-4776-b1ad-d46ccc48b5ca",
   "metadata": {},
   "outputs": [
    {
     "name": "stdout",
     "output_type": "stream",
     "text": [
      "1169\n"
     ]
    }
   ],
   "source": [
    "\"\"\"\n",
    "--- Part Two ---\n",
    " https://adventofcode.com/2024/day/8#part2 \n",
    "\"\"\"\n",
    "\n",
    "from string import ascii_letters, digits\n",
    "from itertools import combinations\n",
    "import numpy as np\n",
    "\n",
    "def add_antinodes(x: int, y: int, dx: int, dy: int) -> None:\n",
    "    newx, newy = x, y\n",
    "    while True:\n",
    "        newx += dx\n",
    "        newy += dy\n",
    "        if newx not in range(grid.shape[0]) or newy not in range(grid.shape[1]): break\n",
    "        antinodes[(newx, newy)] = \"#\"\n",
    "\n",
    "def get_d(ax: int, ay: int, bx: int, by: int) -> tuple[int, int]:\n",
    "    return (ax - bx, ay - by)\n",
    "\n",
    "def generate_antinodes() -> None: \n",
    "    for freq in ascii_letters + digits:\n",
    "        for a, b in combinations(zip(*np.where(grid == freq)), 2):\n",
    "            if a == b: continue\n",
    "            d = get_d(*a, *b)\n",
    "            add_antinodes(*a, *d)\n",
    "            add_antinodes(*b, -d[0], -d[1])\n",
    "    \n",
    "with open(\"input.txt\") as f:\n",
    "    grid = np.array([list(line) for line in f.read().split(\"\\n\")])\n",
    "    antinodes = np.full_like(grid, \".\")\n",
    "    generate_antinodes()\n",
    "    result = np.where(grid != '.', '#', antinodes)\n",
    "    print(np.count_nonzero(result == \"#\"))\n",
    "\n",
    "#Total Unique Locations: 1169"
   ]
  },
  {
   "cell_type": "code",
   "execution_count": null,
   "id": "ed89b241-6ddd-4620-b7f0-8a2cf05f7845",
   "metadata": {
    "tags": []
   },
   "outputs": [],
   "source": []
  }
 ],
 "metadata": {
  "kernelspec": {
   "display_name": "Python 3 (ipykernel)",
   "language": "python",
   "name": "python3"
  },
  "language_info": {
   "codemirror_mode": {
    "name": "ipython",
    "version": 3
   },
   "file_extension": ".py",
   "mimetype": "text/x-python",
   "name": "python",
   "nbconvert_exporter": "python",
   "pygments_lexer": "ipython3",
   "version": "3.10.9"
  }
 },
 "nbformat": 4,
 "nbformat_minor": 5
}

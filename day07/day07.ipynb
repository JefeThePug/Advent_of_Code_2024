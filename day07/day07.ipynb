{
 "cells": [
  {
   "cell_type": "code",
   "execution_count": 35,
   "id": "6c31cb85-f5e7-46b3-99bc-2150d931517c",
   "metadata": {
    "tags": []
   },
   "outputs": [
    {
     "name": "stdout",
     "output_type": "stream",
     "text": [
      "2299996598890\n"
     ]
    }
   ],
   "source": [
    "\"\"\"\n",
    "--- Day 7: Bridge Repair ---\n",
    " https://adventofcode.com/2024/day/7 \n",
    "\"\"\"\n",
    "\n",
    "import re\n",
    "from itertools import product\n",
    "from operator import add, mul\n",
    "\n",
    "FUNS = {\"+\": add, \"*\": mul}\n",
    "\n",
    "def possibility(total: int, values: list[int]) -> int:\n",
    "    operations = product(FUNS.keys(), repeat=len(values) - 1)\n",
    "    for op in operations:\n",
    "        ops = list(op)\n",
    "        vals = values[::]\n",
    "        result = vals.pop(0)\n",
    "        while ops:\n",
    "            result = FUNS[ops.pop(0)](result, vals.pop(0))\n",
    "            if result > total: continue\n",
    "        if result == total:\n",
    "            return total\n",
    "    return 0\n",
    "    \n",
    "with open(\"input.txt\") as f:\n",
    "    totals, equations = zip(*re.findall(r\"(\\d+): ([\\d ]+)\", f.read()))\n",
    "    total = 0\n",
    "    for i in range(len(totals)):\n",
    "        values = [*map(int, equations[i].split())]\n",
    "        total += possibility(int(totals[i]), values)\n",
    "    print(total)\n",
    "\n",
    "#total calibration is 2299996598890"
   ]
  },
  {
   "cell_type": "code",
   "execution_count": 36,
   "id": "0ca76880-e34d-4776-b1ad-d46ccc48b5ca",
   "metadata": {},
   "outputs": [
    {
     "name": "stdout",
     "output_type": "stream",
     "text": [
      "362646859298554\n"
     ]
    }
   ],
   "source": [
    "\"\"\"\n",
    "--- Part Two ---\n",
    " https://adventofcode.com/2024/day/7#part2 \n",
    "\"\"\"\n",
    "\n",
    "import re\n",
    "from itertools import product\n",
    "from operator import add, mul\n",
    "\n",
    "FUNS = {\"+\": add, \"*\": mul, \"|\": lambda x, y: int(f\"{x}{y}\")}\n",
    "\n",
    "def possibility(total: int, values: list[int]) -> int:\n",
    "    operations = product(FUNS.keys(), repeat=len(values) - 1)\n",
    "    for op in operations:\n",
    "        ops = list(op)\n",
    "        vals = values[::]\n",
    "        result = vals.pop(0)\n",
    "        while ops:\n",
    "            result = FUNS[ops.pop(0)](result, vals.pop(0))\n",
    "        if result == total:\n",
    "            return total\n",
    "    return 0\n",
    "    \n",
    "with open(\"input.txt\") as f:\n",
    "    totals, equations = zip(*re.findall(r\"(\\d+): ([\\d ]+)\", f.read()))\n",
    "    total = 0\n",
    "    for i in range(len(totals)):\n",
    "        values = [*map(int, equations[i].split())]\n",
    "        total += possibility(int(totals[i]), values)\n",
    "    print(total)\n",
    "\n",
    "#total calibration is 362646859298554"
   ]
  },
  {
   "cell_type": "code",
   "execution_count": null,
   "id": "e49a8a53-a877-4889-9bd1-fd866ff1c8c9",
   "metadata": {},
   "outputs": [],
   "source": []
  }
 ],
 "metadata": {
  "kernelspec": {
   "display_name": "Python 3 (ipykernel)",
   "language": "python",
   "name": "python3"
  },
  "language_info": {
   "codemirror_mode": {
    "name": "ipython",
    "version": 3
   },
   "file_extension": ".py",
   "mimetype": "text/x-python",
   "name": "python",
   "nbconvert_exporter": "python",
   "pygments_lexer": "ipython3",
   "version": "3.10.9"
  }
 },
 "nbformat": 4,
 "nbformat_minor": 5
}

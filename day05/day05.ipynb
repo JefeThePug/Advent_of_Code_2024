{
 "cells": [
  {
   "cell_type": "code",
   "execution_count": 39,
   "id": "6c31cb85-f5e7-46b3-99bc-2150d931517c",
   "metadata": {
    "tags": []
   },
   "outputs": [
    {
     "name": "stdout",
     "output_type": "stream",
     "text": [
      "7307\n"
     ]
    }
   ],
   "source": [
    "\"\"\"\n",
    "--- Day 5: Print Queue ---\n",
    " https://adventofcode.com/2024/day/5 \n",
    "\"\"\"\n",
    "\n",
    "def mid_of_correct(rules: list[str], book: list[str]) -> int:\n",
    "    for rule in rules:\n",
    "        A, B = rule.split(\"|\")\n",
    "        if A in book and B in book:\n",
    "            if book.index(A) > book.index(B):\n",
    "                return 0\n",
    "    return int(book[len(book)//2])\n",
    "\n",
    "def correct_mid_pages(rules: list[str], books: list[list[str]]) -> int:\n",
    "    return sum(mid_of_correct(rules, book) for book in books)\n",
    "\n",
    "with open(\"input.txt\") as f:\n",
    "    rules, books = [chunk.split(\"\\n\") for chunk in f.read().split(\"\\n\\n\")]\n",
    "    books = [b.split(\",\") for b in books]\n",
    "    print(correct_mid_pages(rules, books))\n",
    "    \n",
    "# Sum of Correct Middle Pages is 7307"
   ]
  },
  {
   "cell_type": "code",
   "execution_count": 38,
   "id": "0ca76880-e34d-4776-b1ad-d46ccc48b5ca",
   "metadata": {},
   "outputs": [
    {
     "name": "stdout",
     "output_type": "stream",
     "text": [
      "4713\n"
     ]
    }
   ],
   "source": [
    "\"\"\"\n",
    "--- Part Two ---\n",
    " https://adventofcode.com/2024/day/5#part2 \n",
    "\"\"\"\n",
    "\n",
    "from collections import defaultdict, deque\n",
    "\n",
    "def middle_of_khan(rules: list[str]) -> int:\n",
    "    graph = defaultdict(list)\n",
    "    in_degree = defaultdict(int)\n",
    "    for line in rules:\n",
    "        a, b = map(int, line.split('|'))\n",
    "        graph[a].append(b)\n",
    "        in_degree[b] += 1\n",
    "        if a not in in_degree:\n",
    "            in_degree[a] = 0\n",
    "\n",
    "    queue = deque([node for node in in_degree if in_degree[node] == 0])\n",
    "    sorted_numbers = []\n",
    "    while queue:\n",
    "        current = queue.popleft()\n",
    "        sorted_numbers.append(current)\n",
    "\n",
    "        for neighbor in graph[current]:\n",
    "            in_degree[neighbor] -= 1\n",
    "            if in_degree[neighbor] == 0:\n",
    "                queue.append(neighbor)\n",
    "\n",
    "    return sorted_numbers[len(sorted_numbers)//2]\n",
    "\n",
    "def is_incorrect(rules: list[str], book: list[str]) -> bool:\n",
    "    for rule in rules:\n",
    "        A, B = rule.split(\"|\")\n",
    "        if A in book and B in book:\n",
    "            if book.index(A) > book.index(B):\n",
    "                return True\n",
    "    return False\n",
    "\n",
    "def incorrect_mid_pages(rules: list[str], books: list[list[str]]) -> int:    \n",
    "    incorrect_books = [book for book in books if is_incorrect(rules, book)]\n",
    "    \n",
    "    result = 0\n",
    "    for book in incorrect_books:\n",
    "        applicable_rules = [rule for rule in rules if rule[:2] in book and rule[3:] in book]\n",
    "        result += middle_of_khan(applicable_rules)\n",
    "    return result    \n",
    "\n",
    "with open(\"input.txt\") as f:\n",
    "    rules, books = [chunk.split(\"\\n\") for chunk in f.read().split(\"\\n\\n\")]\n",
    "    books = [b.split(\",\") for b in books]\n",
    "    print(incorrect_mid_pages(rules, books))\n",
    "    \n",
    "# Sum of Corrected Middle Pages is 4713"
   ]
  },
  {
   "cell_type": "code",
   "execution_count": null,
   "id": "064d5bdf-a125-4d29-8179-45675a85c55e",
   "metadata": {},
   "outputs": [],
   "source": []
  }
 ],
 "metadata": {
  "kernelspec": {
   "display_name": "Python 3 (ipykernel)",
   "language": "python",
   "name": "python3"
  },
  "language_info": {
   "codemirror_mode": {
    "name": "ipython",
    "version": 3
   },
   "file_extension": ".py",
   "mimetype": "text/x-python",
   "name": "python",
   "nbconvert_exporter": "python",
   "pygments_lexer": "ipython3",
   "version": "3.10.9"
  }
 },
 "nbformat": 4,
 "nbformat_minor": 5
}

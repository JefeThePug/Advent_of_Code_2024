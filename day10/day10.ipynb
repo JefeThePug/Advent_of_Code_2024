{
 "cells": [
  {
   "cell_type": "code",
   "execution_count": 40,
   "id": "6c31cb85-f5e7-46b3-99bc-2150d931517c",
   "metadata": {
    "tags": []
   },
   "outputs": [
    {
     "name": "stdout",
     "output_type": "stream",
     "text": [
      "744\n"
     ]
    }
   ],
   "source": [
    "\"\"\"\n",
    "--- Day 10: Hoof It ---\n",
    " https://adventofcode.com/2024/day/10 \n",
    "\"\"\"\n",
    "\n",
    "import numpy as np\n",
    "\n",
    "OFFSETS = [(0, 1), (0, -1), (-1, 0), (1, 0)]\n",
    "\n",
    "def path(x: int, y: int, visited: set[tuple[int, int]] | None = None) -> int:\n",
    "    if visited is None: visited = set()\n",
    "    if (x, y) in visited: return 0\n",
    "    visited.add((x, y))\n",
    "    if grid[x, y] == 9: return 1\n",
    "\n",
    "    result = 0\n",
    "    for dx, dy in OFFSETS:\n",
    "        newx, newy = x + dx, y + dy\n",
    "        if (\n",
    "            all(d in range(r) for d, r in zip((newx, newy), grid.shape))\n",
    "            and grid[newx, newy] == grid[x, y] + 1\n",
    "        ):\n",
    "            result += path(newx, newy, visited)\n",
    "    return result\n",
    "    \n",
    "with open(\"input.txt\") as f:\n",
    "    grid = np.array([list(map(int, line)) for line in f.read().split(\"\\n\")])\n",
    "    zeros = [*zip(*np.where((grid == 0)))]\n",
    "    print(sum(path(x, y) for x, y in zeros))\n",
    "\n",
    "#Sum of Scores: 744 "
   ]
  },
  {
   "cell_type": "code",
   "execution_count": 41,
   "id": "0ca76880-e34d-4776-b1ad-d46ccc48b5ca",
   "metadata": {},
   "outputs": [
    {
     "name": "stdout",
     "output_type": "stream",
     "text": [
      "1651\n"
     ]
    }
   ],
   "source": [
    "\"\"\"\n",
    "--- Part Two ---\n",
    " https://adventofcode.com/2024/day/10#part2 \n",
    "\"\"\"\n",
    "\n",
    "import numpy as np\n",
    "\n",
    "OFFSETS = [(0, 1), (0, -1), (-1, 0), (1, 0)]\n",
    "\n",
    "def path(x: int, y: int) -> int:\n",
    "    if grid[x, y] == 9: return 1\n",
    "\n",
    "    result = 0\n",
    "    for dx, dy in OFFSETS:\n",
    "        newx, newy = x + dx, y + dy\n",
    "        if (\n",
    "            all(d in range(r) for d, r in zip((newx, newy), grid.shape))\n",
    "            and grid[newx, newy] == grid[x, y] + 1\n",
    "        ):\n",
    "            result += path(newx, newy)\n",
    "    return result\n",
    "    \n",
    "with open(\"input.txt\") as f:\n",
    "    grid = np.array([list(map(int, line)) for line in f.read().split(\"\\n\")])\n",
    "    zeros = [*zip(*np.where((grid == 0)))]\n",
    "    print(sum(path(x, y) for x, y in zeros))\n",
    "\n",
    "#Sum of Ratings: 1651 "
   ]
  },
  {
   "cell_type": "code",
   "execution_count": null,
   "id": "ed89b241-6ddd-4620-b7f0-8a2cf05f7845",
   "metadata": {
    "tags": []
   },
   "outputs": [],
   "source": []
  }
 ],
 "metadata": {
  "kernelspec": {
   "display_name": "Python 3 (ipykernel)",
   "language": "python",
   "name": "python3"
  },
  "language_info": {
   "codemirror_mode": {
    "name": "ipython",
    "version": 3
   },
   "file_extension": ".py",
   "mimetype": "text/x-python",
   "name": "python",
   "nbconvert_exporter": "python",
   "pygments_lexer": "ipython3",
   "version": "3.10.9"
  }
 },
 "nbformat": 4,
 "nbformat_minor": 5
}

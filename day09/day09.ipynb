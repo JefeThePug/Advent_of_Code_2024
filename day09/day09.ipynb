{
 "cells": [
  {
   "cell_type": "code",
   "execution_count": 2,
   "id": "6c31cb85-f5e7-46b3-99bc-2150d931517c",
   "metadata": {
    "tags": []
   },
   "outputs": [
    {
     "name": "stdout",
     "output_type": "stream",
     "text": [
      "6386640365805\n"
     ]
    }
   ],
   "source": [
    "\"\"\"\n",
    "--- Day 9: Disk Fragmenter ---\n",
    " https://adventofcode.com/2024/day/9 \n",
    "\"\"\"\n",
    "\n",
    "from itertools import chain\n",
    "\n",
    "with open(\"input.txt\") as f:\n",
    "    blocks = [*chain.from_iterable([\".\"] * int(v) if i & 1 else [f\"{i//2}\"] * int(v) for i, v in enumerate(f.readline()))]\n",
    "    files = [e for e in blocks if e != \".\"]\n",
    "    result = [e if e != \".\" else files.pop() for e in blocks[:len(files)]]\n",
    "    total = sum(i * int(n) for i, n in enumerate(result))\n",
    "    print(total)\n",
    "\n",
    "#Filesystem Checksum is 6386640365805"
   ]
  },
  {
   "cell_type": "code",
   "execution_count": 3,
   "id": "0ca76880-e34d-4776-b1ad-d46ccc48b5ca",
   "metadata": {},
   "outputs": [
    {
     "name": "stdout",
     "output_type": "stream",
     "text": [
      "6423258376982\n"
     ]
    }
   ],
   "source": [
    "\"\"\"\n",
    "--- Part Two ---\n",
    " https://adventofcode.com/2024/day/9#part2 \n",
    "\"\"\"\n",
    "\n",
    "from itertools import chain\n",
    "    \n",
    "with open(\"data.txt\") as f:\n",
    "    blocks = [*chain.from_iterable([-1] * int(v) if i & 1 else [i // 2] * int(v) for i, v in enumerate(f.readline()))]\n",
    "\n",
    "length = len(blocks)\n",
    "i = 0\n",
    "j = length - 1\n",
    "\n",
    "while j > 0:\n",
    "    if blocks[j] != -1:\n",
    "        jstart = j\n",
    "        size = 1\n",
    "        while jstart > 0 and blocks[jstart - 1] == blocks[j]:\n",
    "            jstart -= 1\n",
    "            size += 1\n",
    "        i = 0\n",
    "        j = jstart\n",
    "        while i < j and blocks[i:i + size].count(-1) != size:\n",
    "            i += 1\n",
    "        blocks[i:i + size], blocks[j:j + size] = blocks[j:j + size], blocks[i:i + size]\n",
    "    j -= 1\n",
    "\n",
    "    \n",
    "total = sum(i * n for i, n in enumerate(blocks) if n != -1)\n",
    "print(total)\n",
    "\n",
    "#Filesystem Checksum is 6423258376982"
   ]
  },
  {
   "cell_type": "code",
   "execution_count": null,
   "id": "c2eec0f9-e9c7-4051-adab-bd4f21e1215d",
   "metadata": {},
   "outputs": [],
   "source": []
  }
 ],
 "metadata": {
  "kernelspec": {
   "display_name": "Python 3 (ipykernel)",
   "language": "python",
   "name": "python3"
  },
  "language_info": {
   "codemirror_mode": {
    "name": "ipython",
    "version": 3
   },
   "file_extension": ".py",
   "mimetype": "text/x-python",
   "name": "python",
   "nbconvert_exporter": "python",
   "pygments_lexer": "ipython3",
   "version": "3.10.9"
  }
 },
 "nbformat": 4,
 "nbformat_minor": 5
}

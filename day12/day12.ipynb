{
 "cells": [
  {
   "cell_type": "code",
   "execution_count": 1,
   "id": "6c31cb85-f5e7-46b3-99bc-2150d931517c",
   "metadata": {
    "tags": []
   },
   "outputs": [
    {
     "name": "stdout",
     "output_type": "stream",
     "text": [
      "1473408\n"
     ]
    }
   ],
   "source": [
    "\"\"\"\n",
    "--- Day 12: Garden Groups ---\n",
    " https://adventofcode.com/2024/day/12 \n",
    "\"\"\"\n",
    "\n",
    "import numpy as np\n",
    "\n",
    "def dfs(neighbor: np.ndarray, i: int, j: int, kind: str, area: list[tuple[int, int]]) -> int:\n",
    "    if i not in range(garden.shape[0]): return 0 if neighbor[i, j] else 1\n",
    "    if j not in range(garden.shape[1]): return 0 if neighbor[i, j] else 1\n",
    "    if visited[i, j]: return 0 if neighbor[i, j] else 1\n",
    "    if garden[i, j] != kind: return 0 if neighbor[i, j] else 1\n",
    "\n",
    "    visited[i, j] = True\n",
    "    neighbor[i, j] = True\n",
    "    area.append((i, j))\n",
    "    \n",
    "    result = dfs(neighbor, i - 1, j, kind, area)\n",
    "    result += dfs(neighbor, i + 1, j, kind, area)\n",
    "    result += dfs(neighbor, i, j - 1, kind, area)\n",
    "    result += dfs(neighbor, i, j + 1, kind, area)\n",
    "    return result\n",
    "\n",
    "def get_fences() -> None:\n",
    "    for i in range(garden.shape[0]):\n",
    "        for j in range(garden.shape[1]):\n",
    "            if not visited[i, j]:\n",
    "                area = []\n",
    "                perims = dfs(np.zeros(neighbors), i, j, garden[i, j], area)\n",
    "                areas.append(len(area) * perims)\n",
    "    \n",
    "with open(\"input.txt\") as f:\n",
    "    garden = np.array([list(line) for line in f.read().split(\"\\n\")])\n",
    "    visited = np.zeros_like(garden, dtype=bool)\n",
    "    neighbors = (garden.shape[0] + 1, garden.shape[1] + 1)\n",
    "\n",
    "areas = []\n",
    "get_fences()\n",
    "print(sum(areas))\n",
    "\n",
    "#Total Fencing Price 1473408"
   ]
  },
  {
   "cell_type": "code",
   "execution_count": 2,
   "id": "0ca76880-e34d-4776-b1ad-d46ccc48b5ca",
   "metadata": {},
   "outputs": [
    {
     "name": "stdout",
     "output_type": "stream",
     "text": [
      "886364\n"
     ]
    }
   ],
   "source": [
    "\"\"\"\n",
    "--- Part Two ---\n",
    " https://adventofcode.com/2024/day/12#part2 \n",
    "\"\"\"\n",
    "\n",
    "import numpy as np\n",
    "\n",
    "def dfs(i: int, j: int, kind: str, area: list[tuple[int, int]]) -> None:\n",
    "    if i not in range(garden.shape[0]): return\n",
    "    if j not in range(garden.shape[1]): return\n",
    "    if visited[i, j]: return\n",
    "    if garden[i, j] != kind: return\n",
    "\n",
    "    visited[i, j] = True\n",
    "    area.append((i, j))\n",
    "    \n",
    "    dfs(i - 1, j, kind, area)\n",
    "    dfs(i + 1, j, kind, area)\n",
    "    dfs(i, j - 1, kind, area)\n",
    "    dfs(i, j + 1, kind, area)\n",
    "\n",
    "def get_sides(area: list[tuple[int, int]]):\n",
    "    rows, cols = zip(*area)\n",
    "    min_r, max_r = min(rows), max(rows)\n",
    "    min_c, max_c = min(cols), max(cols)\n",
    "    block = np.zeros((max_r - min_r + 3, max_c - min_c + 3))\n",
    "    \n",
    "    for x, y in area:\n",
    "        block[x - min_r + 1, y - min_c + 1] = 1\n",
    "    \n",
    "    double_corner = [(1,0,0,1), (0,1,1,0)]    \n",
    "    corner = [\n",
    "        (0,0,0,1), (0,0,1,0), (0,1,0,0), (1,0,0,0), (1,1,1,0), \n",
    "        (1,1,0,1), (1,0,1,1), (0,1,1,1), (1,0,0,1), (0,1,1,0),\n",
    "    ]\n",
    "\n",
    "    corners = 0\n",
    "    for i in range(block.shape[0] - 1):\n",
    "        for j in range(block.shape[1] - 1):\n",
    "            b = tuple(block[i:i+2, j:j+2].flatten())\n",
    "            corners += (b in corner) + (b in double_corner)\n",
    "    return corners\n",
    "\n",
    "def get_fences() -> None:\n",
    "    for i in range(garden.shape[0]):\n",
    "        for j in range(garden.shape[1]):\n",
    "            if not visited[i, j]:\n",
    "                area = []\n",
    "                dfs(i, j, garden[i, j], area)\n",
    "                areas.append(len(area) * get_sides(area))\n",
    "    \n",
    "with open(\"data.txt\") as f:\n",
    "    garden = np.array([list(line) for line in f.read().split(\"\\n\")])\n",
    "    visited = np.zeros_like(garden, dtype=bool)\n",
    "    neighbors = (garden.shape[0] + 1, garden.shape[1] + 1)\n",
    "\n",
    "areas = []\n",
    "get_fences()\n",
    "print(sum(areas))\n",
    "\n",
    "#Total Fencing Price 886364"
   ]
  },
  {
   "cell_type": "code",
   "execution_count": null,
   "id": "c9c71491-9d13-4801-a633-93e69a197f96",
   "metadata": {},
   "outputs": [],
   "source": []
  }
 ],
 "metadata": {
  "kernelspec": {
   "display_name": "Python 3 (ipykernel)",
   "language": "python",
   "name": "python3"
  },
  "language_info": {
   "codemirror_mode": {
    "name": "ipython",
    "version": 3
   },
   "file_extension": ".py",
   "mimetype": "text/x-python",
   "name": "python",
   "nbconvert_exporter": "python",
   "pygments_lexer": "ipython3",
   "version": "3.10.9"
  }
 },
 "nbformat": 4,
 "nbformat_minor": 5
}

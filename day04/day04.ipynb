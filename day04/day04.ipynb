{
 "cells": [
  {
   "cell_type": "code",
   "execution_count": 41,
   "id": "6c31cb85-f5e7-46b3-99bc-2150d931517c",
   "metadata": {
    "tags": []
   },
   "outputs": [
    {
     "name": "stdout",
     "output_type": "stream",
     "text": [
      "2567\n"
     ]
    }
   ],
   "source": [
    "\"\"\"\n",
    "--- Day 4: Ceres Search ---\n",
    " https://adventofcode.com/2024/day/4 \n",
    "\"\"\"\n",
    "\n",
    "import numpy as np\n",
    "\n",
    "def chain(x: int, y: int, offset_x: int, offset_y: int, i: int=0) -> bool:\n",
    "    if i > 2: return True\n",
    "    \n",
    "    new_x = x + offset_x\n",
    "    new_y = y + offset_y\n",
    "    if new_x < 0 or new_y < 0 or new_x >= word_array.shape[0] or new_y >= word_array.shape[1]:\n",
    "            return False\n",
    "    \n",
    "    if word_array[new_x, new_y] == \"MAS\"[i]:    \n",
    "        return chain(new_x, new_y, offset_x, offset_y, i + 1)\n",
    "    return False\n",
    "\n",
    "def find_words() -> int:\n",
    "    offsets = [(-1, -1), (-1, 0), (-1, 1), (0, -1), (0, 1), (1, -1), (1, 0), (1, 1)]\n",
    "    total = 0\n",
    "\n",
    "    for row in range(word_array.shape[0]):\n",
    "        for col in range(word_array.shape[1]):\n",
    "            if word_array[row, col] == \"X\":\n",
    "                total += sum(chain(row, col, *offset) for offset in offsets)\n",
    "    return total\n",
    "\n",
    "with open(\"input.txt\") as f:\n",
    "    word_array = np.array([list(f) for f in f.read().split(\"\\n\")])\n",
    "    print(find_words())\n",
    "    \n",
    "# XMAS appearances 2567"
   ]
  },
  {
   "cell_type": "code",
   "execution_count": 42,
   "id": "0ca76880-e34d-4776-b1ad-d46ccc48b5ca",
   "metadata": {},
   "outputs": [
    {
     "name": "stdout",
     "output_type": "stream",
     "text": [
      "2029\n"
     ]
    }
   ],
   "source": [
    "\"\"\"\n",
    "--- Part Two ---\n",
    " https://adventofcode.com/2024/day/4#part2 \n",
    "\"\"\"\n",
    "\n",
    "import numpy as np\n",
    "\n",
    "def chain(x: int, y: int, offset_x: int, offset_y: int, letter: str) -> bool:\n",
    "    opposite = {\"S\":\"M\", \"M\":\"S\"}[letter]\n",
    "    \n",
    "    if x + 2 >= word_array.shape[0] or y + 2 >= word_array.shape[1]: return False\n",
    "    if word_array[x + offset_x, y + offset_y] != letter: return False\n",
    "    if word_array[x + 1, y + 1] != \"A\": return False\n",
    "    if word_array[x + 2, y + 2] != opposite: return False\n",
    "    return word_array[x + offset_y, y + offset_x] == opposite\n",
    "\n",
    "def find_words() -> int:\n",
    "    offsets = [(2, 0), (0, 2)]\n",
    "    total = 0\n",
    "\n",
    "    for row in range(word_array.shape[0]):\n",
    "        for col in range(word_array.shape[1]):\n",
    "            if word_array[row, col] in \"SM\":\n",
    "                total += sum(chain(row, col, *offset, word_array[row, col]) for offset in offsets)\n",
    "    return total\n",
    "\n",
    "with open(\"input.txt\") as f:\n",
    "    word_array = np.array([list(f) for f in f.read().split(\"\\n\")])\n",
    "    print(find_words())\n",
    "    \n",
    "# X-MAS appearances 2029"
   ]
  },
  {
   "cell_type": "code",
   "execution_count": null,
   "id": "ca7c50d6-840c-410a-ad15-925f1ec4b7e8",
   "metadata": {},
   "outputs": [],
   "source": []
  }
 ],
 "metadata": {
  "kernelspec": {
   "display_name": "Python 3 (ipykernel)",
   "language": "python",
   "name": "python3"
  },
  "language_info": {
   "codemirror_mode": {
    "name": "ipython",
    "version": 3
   },
   "file_extension": ".py",
   "mimetype": "text/x-python",
   "name": "python",
   "nbconvert_exporter": "python",
   "pygments_lexer": "ipython3",
   "version": "3.10.9"
  }
 },
 "nbformat": 4,
 "nbformat_minor": 5
}
